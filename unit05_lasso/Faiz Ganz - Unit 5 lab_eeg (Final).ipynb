{
  "nbformat": 4,
  "nbformat_minor": 0,
  "metadata": {
    "kernelspec": {
      "display_name": "Python 3",
      "language": "python",
      "name": "python3"
    },
    "language_info": {
      "codemirror_mode": {
        "name": "ipython",
        "version": 3
      },
      "file_extension": ".py",
      "mimetype": "text/x-python",
      "name": "python",
      "nbconvert_exporter": "python",
      "pygments_lexer": "ipython3",
      "version": "3.8.5"
    },
    "colab": {
      "name": "lab_eeg_partial.ipynb",
      "provenance": []
    }
  },
  "cells": [
    {
      "cell_type": "markdown",
      "metadata": {
        "id": "zdQsHKUgdVCe"
      },
      "source": [
        "### Student Name: Faiz Ganz\n",
        "### Student Net Id: fag277"
      ]
    },
    {
      "cell_type": "markdown",
      "metadata": {
        "id": "xWx8wtNGdVCh"
      },
      "source": [
        "# Lab:  Source Localization for EEG\n",
        "\n",
        "EEG or [Electroencephalography](https://en.wikipedia.org/wiki/Electroencephalography) is a powerful tool for neuroscientists in understanding brain activity.  In EEG, a patient wears a headset with electrodes that measures voltages at a number of points on the scalp.  These voltages arise from ionic currents within the brain.  A common *inverse problem* is to estimate the which parts of the brain caused the measured response.  Source localization is useful in understanding which parts of the brain are involved in certain tasks.  A key challenge in this inverse problem is that the number of unknowns (possible locations in the brain) is much larger than the number of measurements.  In this lab, we will use LASSO regression on a real EEG dataset to overcome this problem and determine the brain region that is active under an auditory stimulus.\n",
        "\n",
        "In addition to the concepts in the [prostate LASSO demo](./demo_prostate.ipynb) you will learn to:\n",
        "* Represent responses of multi-channel time-series data, such as EEG, using linear models\n",
        "* Perform LASSO and Ridge regression\n",
        "* Select the regularization level via cross-validation\n",
        "* Visually compare the sparsity between the solutions\n",
        "\n",
        "We first download standard packages."
      ]
    },
    {
      "cell_type": "code",
      "metadata": {
        "id": "xcdaeFgBdVCh"
      },
      "source": [
        "import numpy as np\n",
        "import matplotlib.pyplot as plt\n",
        "import pickle\n",
        "\n",
        "from sklearn.linear_model import Lasso, Ridge, ElasticNet\n",
        "from sklearn.metrics import r2_score\n",
        "from sklearn.model_selection import train_test_split"
      ],
      "execution_count": null,
      "outputs": []
    },
    {
      "cell_type": "markdown",
      "metadata": {
        "id": "R2Uj3ZEfdVCi"
      },
      "source": [
        "## Load the Data\n",
        "\n",
        "The data in this lab is taken from one of the sample datasets in the [MNE website](https://martinos.org/mne/stable/index.html). The sample data is a recording from one subject who experienced some auditory stimulus on the left ear.    \n",
        "\n",
        "The raw data is very large (`1.5G`) and also requires that you install the `mne` python package. To make this lab easier, I have extracted and processed a small section of the data. The following command will download a `pickle` file `eeg_dat.p` to your local machine.  If you do want to create the data yourself, the program to create the data is in this directory in the github repository."
      ]
    },
    {
      "cell_type": "code",
      "metadata": {
        "colab": {
          "base_uri": "https://localhost:8080/"
        },
        "id": "8QD6_9fTdVCj",
        "outputId": "2d25c936-2b10-4f64-a98d-fcd8d252faed"
      },
      "source": [
        "fn_src ='https://drive.google.com/uc?export=download&id=1RzQpKONOcXSMxH2ZzOI4iVMiTgD6ttSl'\n",
        "fn_dst ='eeg_dat.p'\n",
        "\n",
        "import os\n",
        "from six.moves import urllib\n",
        "\n",
        "if os.path.isfile(fn_dst):\n",
        "    print('File %s is already downloaded' % fn_dst)\n",
        "else:        \n",
        "    print('Fetching file %s [53MB].  This may take a minute..' % fn_dst)\n",
        "    urllib.request.urlretrieve(fn_src, fn_dst)\n",
        "    print('File %s downloaded' % fn_dst)"
      ],
      "execution_count": null,
      "outputs": [
        {
          "output_type": "stream",
          "name": "stdout",
          "text": [
            "File eeg_dat.p is already downloaded\n"
          ]
        }
      ]
    },
    {
      "cell_type": "markdown",
      "metadata": {
        "id": "hg4XE4HadVCk"
      },
      "source": [
        "Now run the following command which will get the data from the `pickle` file."
      ]
    },
    {
      "cell_type": "code",
      "metadata": {
        "colab": {
          "base_uri": "https://localhost:8080/"
        },
        "id": "GLcabGjKdVCk",
        "outputId": "853beba5-0776-4f31-aaf6-aaac6a7a8960"
      },
      "source": [
        "import pickle\n",
        "fn = 'eeg_dat.p'\n",
        "with open(fn, 'rb') as fp:\n",
        "    [X,Y] = pickle.load(fp)\n",
        "\n",
        "print(X.shape, Y.shape)"
      ],
      "execution_count": null,
      "outputs": [
        {
          "output_type": "stream",
          "name": "stdout",
          "text": [
            "(305, 22494) (305, 85)\n"
          ]
        }
      ]
    },
    {
      "cell_type": "markdown",
      "metadata": {
        "id": "QJD3km4FdVCl"
      },
      "source": [
        "To understand the data, there are three key variables:\n",
        "* `nt`    = number of time steps that we measure data\n",
        "* `nchan` = number of channels (i.e. electrodes) measured in each time step\n",
        "* `ncur`  = number of currents in the brain that we want to estimate.  \n",
        "\n",
        "Each current comes from one brain region (called a *voxel*) in either the `x`, `y` or `z` direction.  So,\n",
        "\n",
        "    nvoxels = ncur / 3\n",
        "    \n",
        "The components of the `X` and `Y` matrices are:\n",
        "*  `Y[i,k]` = electric field measurement on channel `i` at time `k`\n",
        "*  `X[i,j]` = sensitivity of channel `i` to current `j`.\n",
        "\n",
        "Using `X.shape` and `Y.shape` compute and print `nt`, `nchan`, `ncur` and `nvoxels`."
      ]
    },
    {
      "cell_type": "code",
      "metadata": {
        "colab": {
          "base_uri": "https://localhost:8080/"
        },
        "id": "xhMExh9AdVCl",
        "outputId": "4a1f0dd5-7621-4fd4-d520-1fe4da330e75"
      },
      "source": [
        "# TODO 1\n",
        "nt = Y.shape[1]\n",
        "ncur = X.shape[1]\n",
        "nchan = X.shape[0]\n",
        "nvoxels = ncur//3\n",
        "print('''\n",
        "Time Steps: {}\n",
        "Currents: {}\n",
        "Channels: {}\n",
        "Voxels: {}\n",
        "'''.format(nt, ncur, nchan, nvoxels))"
      ],
      "execution_count": null,
      "outputs": [
        {
          "output_type": "stream",
          "name": "stdout",
          "text": [
            "\n",
            "Time Steps: 85\n",
            "Currents: 22494\n",
            "Channels: 305\n",
            "Voxels: 7498\n",
            "\n"
          ]
        }
      ]
    },
    {
      "cell_type": "markdown",
      "metadata": {
        "id": "OqLieJAQdVCm"
      },
      "source": [
        "## Ridge Regression\n",
        "\n",
        "Our goal is to estimate the currents in the brain from the measurements `Y`.  One simple linear model is:\n",
        "\n",
        "    Y[i,k]  = \\sum_j X[i,j]*W[j,k]+ b[k]\n",
        "\n",
        "where `W[j,k]` is the value of current `j` at time `k` and `b[k]` is a bias.  We can solve for the current matrix `W` via linear regression.  \n",
        "\n",
        "Howeever, there is a problem:\n",
        "*  There are `nt x ncur` unknowns in `W`\n",
        "*  There are only `nt x nchan` measurements in `Y`.\n",
        "\n",
        "In this problem, we have:\n",
        "\n",
        "    number of measurements  << number of unknowns\n",
        "    \n",
        "We need to use regularization in these circumstances.  We first try Ridge regression.\n",
        "\n",
        "First split the data into training and test.  Use the `train_test_split` function with `test_size=0.33`."
      ]
    },
    {
      "cell_type": "code",
      "metadata": {
        "id": "axM4FMT3dVCm"
      },
      "source": [
        "# TODO 2\n",
        "Xtr,Xts,Ytr,Yts = train_test_split(X, Y, test_size = 0.33) "
      ],
      "execution_count": null,
      "outputs": []
    },
    {
      "cell_type": "markdown",
      "metadata": {
        "id": "59veeTnedVCm"
      },
      "source": [
        "Use the `Ridge` regression object in `sklearn` to fit the model on the training data.  Use a regularization, `alpha=1`."
      ]
    },
    {
      "cell_type": "code",
      "metadata": {
        "id": "ONUhuS0CdVCm"
      },
      "source": [
        "# TODO 3\n",
        "ridge = Ridge(alpha=1)"
      ],
      "execution_count": null,
      "outputs": []
    },
    {
      "cell_type": "markdown",
      "metadata": {
        "id": "QlBx23RSdVCn"
      },
      "source": [
        "Preict the values `Y` on both the training and test data.  Use the `r2_score` method to measure the `R^2` value on both the training and test.  You will see that `R^2` value is large for the training data, it is very low for the test data.  This suggest that even with regularization, the model is over-fitting the data."
      ]
    },
    {
      "cell_type": "code",
      "metadata": {
        "colab": {
          "base_uri": "https://localhost:8080/"
        },
        "id": "L4BmBs3ndVCn",
        "outputId": "6126ef94-8fbf-4b4e-e7f0-defa7200bc6d"
      },
      "source": [
        "# TODO 4\n",
        "ridge.fit(Xtr, Ytr)\n",
        "Ytr_pred = ridge.predict(Xtr)\n",
        "Yts_pred = ridge.predict(Xts)\n",
        "\n",
        "rsq_tr = r2_score(Ytr, Ytr_pred)\n",
        "rsq_ts = r2_score(Yts, Yts_pred)\n",
        "\n",
        "print('''\n",
        "R2 Training: {}\n",
        "R2 Test: {}\n",
        "'''.format(rsq_tr, rsq_ts))"
      ],
      "execution_count": null,
      "outputs": [
        {
          "output_type": "stream",
          "name": "stdout",
          "text": [
            "\n",
            "R2 Training: 0.5583858505509053\n",
            "R2 Test: 0.1491057078194357\n",
            "\n"
          ]
        }
      ]
    },
    {
      "cell_type": "markdown",
      "metadata": {
        "id": "XiOIHSVIdVCn"
      },
      "source": [
        "Next, try to see if we can get a better `R^2` score using different values of `alpha`.  Use cross-validation to measure the test `R^2` for 20 `alpha` values logarithmically spaced from `10^{-2}` to `10^{2}` (use `np.logspace()`).  You can use regular cross-validation.  You do not need to do `K`-fold."
      ]
    },
    {
      "cell_type": "code",
      "metadata": {
        "colab": {
          "base_uri": "https://localhost:8080/"
        },
        "id": "rbGkdy5zdVCn",
        "outputId": "0a41d740-d7b8-4e5e-b9a2-3b3068443f5e"
      },
      "source": [
        "# TODO 5\n",
        "from sklearn.model_selection import KFold\n",
        "\n",
        "nfold = 10\n",
        "kf =KFold(nfold, shuffle=True)\n",
        "\n",
        "# Alpha values to test\n",
        "alphas = np.logspace(-2,2,20)\n",
        "nalpha = len(alphas)\n",
        "\n",
        "# Run the cross-validation\n",
        "rsq = np.zeros((nalpha, nfold))\n",
        "for ifold, ind in enumerate(kf.split(X)):\n",
        "        \n",
        "    # Get the training data in the split\n",
        "    Itr,Its = ind\n",
        "    Xtr = X[Itr,:]\n",
        "    Ytr = Y[Itr]\n",
        "    Xts = X[Its,:]\n",
        "    Yts = Y[Its]\n",
        "\n",
        "    for i, alpha in enumerate(alphas):\n",
        "\n",
        "        # Fit on the training data\n",
        "        ridge = Ridge(alpha=alpha)\n",
        "        ridge.fit(Xtr, Ytr)\n",
        "\n",
        "        # Score on the test data\n",
        "        Yhat = ridge.predict(Xts)\n",
        "        rsq[i, ifold] = r2_score(Yts, Yhat)\n",
        "    \n",
        "    print('Fold = %d' % ifold)\n",
        "    \n",
        "# Compute mean and SE\n",
        "rsq_ridge_mean = np.mean(rsq, axis=1)\n",
        "rsq_ridge_se  = np.std(rsq, axis=1) / np.sqrt(nfold-1)\n"
      ],
      "execution_count": null,
      "outputs": [
        {
          "output_type": "stream",
          "name": "stdout",
          "text": [
            "Fold = 0\n",
            "Fold = 1\n",
            "Fold = 2\n",
            "Fold = 3\n",
            "Fold = 4\n",
            "Fold = 5\n",
            "Fold = 6\n",
            "Fold = 7\n",
            "Fold = 8\n",
            "Fold = 9\n"
          ]
        }
      ]
    },
    {
      "cell_type": "markdown",
      "metadata": {
        "id": "zdtp-_KxdVCn"
      },
      "source": [
        "Plot the test `R^2` vs. `alpha`.  And print the maximum test `R^2`.  You should see that the maximum test `R^2` is still not very high."
      ]
    },
    {
      "cell_type": "code",
      "metadata": {
        "colab": {
          "base_uri": "https://localhost:8080/",
          "height": 313
        },
        "id": "PX8I30IidVCo",
        "outputId": "d65a3c40-6e7d-4036-a86c-f868f37f1f3c"
      },
      "source": [
        "# TODO 6\n",
        "plt.errorbar(np.log10(alphas), rsq_ridge_mean, yerr=rsq_ridge_se)\n",
        "plt.xlabel('log10(alpha)')\n",
        "plt.ylabel('Test R^2')\n",
        "plt.grid()\n",
        "plt.show()\n",
        "\n",
        "print('Maximum R2 = {}'.format(np.max(rsq_ridge_mean)))\n",
        "print('Alpha = {}'.format(alphas[np.argmax(rsq_ridge_mean)]))"
      ],
      "execution_count": null,
      "outputs": [
        {
          "output_type": "display_data",
          "data": {
            "image/png": "[encoded data removed]",
            "text/plain": [
              "<Figure size 432x288 with 1 Axes>"
            ]
          },
          "metadata": {
            "needs_background": "light"
          }
        },
        {
          "output_type": "stream",
          "name": "stdout",
          "text": [
            "Maximum R2 = 0.23126261624746375\n",
            "Alpha = 0.29763514416313175\n"
          ]
        }
      ]
    },
    {
      "cell_type": "markdown",
      "metadata": {
        "id": "fktciclpdVCo"
      },
      "source": [
        "Now, let's take a look at the solution. \n",
        "\n",
        "* Find the optimal regularization `alpha` from the cross-validation\n",
        "* Re-fit the model at the optimal `alpha`\n",
        "* Get the current matrix `W` from the coefficients in the linear model.  These are stored in `regr.coef_`.  You may need a transpose\n",
        "* For each current `j` compute `Wrms[j] =  sqrt( sum_k W[j,k]**2 )` which is root mean squared current.\n",
        "\n",
        "You will see that the vector `Wrms` is not sparse.  This means that the solution that is found with Ridge regression finds currents in all locations."
      ]
    },
    {
      "cell_type": "code",
      "metadata": {
        "colab": {
          "base_uri": "https://localhost:8080/"
        },
        "id": "MH-iJJfGdVCo",
        "outputId": "57654de5-3893-465c-ee64-945eb14c4746"
      },
      "source": [
        "# TODO 7\n",
        "\n",
        "max_alpha = alphas[np.argmax(rsq_ridge_mean)]\n",
        "\n",
        "ridge = Ridge(alpha=max_alpha)\n",
        "ridge.fit(Xtr,Ytr)\n",
        "\n",
        "Wrms = np.sqrt(np.sum(np.transpose(ridge.coef_)**2, axis=1))\n",
        "Wrms"
      ],
      "execution_count": null,
      "outputs": [
        {
          "output_type": "execute_result",
          "data": {
            "text/plain": [
              "array([0.31318619, 0.13108085, 0.17711157, ..., 0.04173848, 0.03427936,\n",
              "       0.06312939])"
            ]
          },
          "metadata": {},
          "execution_count": 10
        }
      ]
    },
    {
      "cell_type": "markdown",
      "metadata": {
        "id": "n3BXKk43dVCo"
      },
      "source": [
        "## LASSO Regression\n",
        "\n",
        "We can improve the estimate by imposing sparsity.  Biologically, we know that only a limited number of brain regions should be involved in the reponse to a particular stimuli.  As a result, we would expect that the current matrix `W[j,k]` to be zero for most values `j,k`.  We can impose this constraint using LASSO regularization.\n",
        "\n",
        "Re-fit the training data using the `Lasso` model with `alpha=1e-3`.  Also set `max_iter=100` and `tol=0.01`.  The LASSO solver is much slower, so this make take a minute."
      ]
    },
    {
      "cell_type": "code",
      "metadata": {
        "colab": {
          "base_uri": "https://localhost:8080/"
        },
        "id": "NRZf9_GSdVCo",
        "outputId": "a9b172c2-992d-4c82-ca5a-157f6db01abf"
      },
      "source": [
        "# TODO 8\n",
        "Xtr,Xts,Ytr,Yts = train_test_split(X, Y, test_size = 0.2) \n",
        "\n",
        "lasso = Lasso(alpha=1e-3, max_iter=100, tol=0.01)\n",
        "lasso.fit(Xtr,Ytr)"
      ],
      "execution_count": null,
      "outputs": [
        {
          "output_type": "execute_result",
          "data": {
            "text/plain": [
              "Lasso(alpha=0.001, copy_X=True, fit_intercept=True, max_iter=100,\n",
              "      normalize=False, positive=False, precompute=False, random_state=None,\n",
              "      selection='cyclic', tol=0.01, warm_start=False)"
            ]
          },
          "metadata": {},
          "execution_count": 11
        }
      ]
    },
    {
      "cell_type": "markdown",
      "metadata": {
        "id": "pH0feTtSdVCp"
      },
      "source": [
        "Now, test the model on the test data and measure the `R^2` value.  You should get a much better fit than with the Ridge regression solution.  "
      ]
    },
    {
      "cell_type": "code",
      "metadata": {
        "colab": {
          "base_uri": "https://localhost:8080/"
        },
        "id": "rgR_lODddVCp",
        "outputId": "2e4d8947-7d17-4248-8e08-ab36e35fbd03"
      },
      "source": [
        "# TODO 9\n",
        "Ytr_pred = lasso.predict(Xtr)\n",
        "Yhat = lasso.predict(Xts)\n",
        "rsq_tr = r2_score(Ytr, Ytr_pred)\n",
        "rsq = r2_score(Yts, Yhat)\n",
        "print(rsq_tr,rsq)"
      ],
      "execution_count": null,
      "outputs": [
        {
          "output_type": "stream",
          "name": "stdout",
          "text": [
            "0.18775090097982183 0.14566347479857847\n"
          ]
        }
      ]
    },
    {
      "cell_type": "markdown",
      "metadata": {
        "id": "qPuX5FSGdVCp"
      },
      "source": [
        "We can now search for the optimal `alpha`.  Use cross-validation to find the `alpha` logarithically space between `alpha=10^{-3}` and `alpha=10^{-4}`.  Each fit takes some time, so use only 5 values of `alpha`. Also for each `alpha` store the current matrix.  This way, you will not have to re-fit the model."
      ]
    },
    {
      "cell_type": "code",
      "metadata": {
        "colab": {
          "base_uri": "https://localhost:8080/"
        },
        "id": "huD3ZgLpMl1V",
        "outputId": "36250538-7090-44eb-804f-a5d4df4421b6"
      },
      "source": [
        "# TODO 10\n",
        "\n",
        "# WARNING: Did not save matrix because i wanted to do k-fold otherwise\n",
        "#          I would have just saved a list of the lasso.coef_ for the\n",
        "#          different alphas\n",
        "\n",
        "nfold = 5\n",
        "kf = KFold(nfold, shuffle=True)\n",
        "\n",
        "# Alpha values to test\n",
        "alphas = np.logspace(-4,-3,5)\n",
        "nalpha = len(alphas)\n",
        "m = []\n",
        "\n",
        "# Run the cross-validation\n",
        "rsq = np.zeros((nalpha, nfold))\n",
        "for ifold, ind in enumerate(kf.split(X)):\n",
        "        \n",
        "    # Get the training data in the split\n",
        "    Itr,Its = ind\n",
        "    Xtr = X[Itr,:]\n",
        "    Ytr = Y[Itr]\n",
        "    Xts = X[Its,:]\n",
        "    Yts = Y[Its]\n",
        "\n",
        "    for i, alpha in enumerate(alphas):\n",
        "        # Fit on the training data\n",
        "        lasso = Lasso(alpha=alpha, max_iter=100, tol=0.01)\n",
        "        lasso.fit(Xtr, Ytr)\n",
        "\n",
        "        # Score on the test data\n",
        "        Yhat = lasso.predict(Xts)\n",
        "        rsq[i, ifold] = r2_score(Yts, Yhat)\n",
        "    \n",
        "    print('Fold = %d' % ifold)\n",
        "    \n",
        "# Compute mean and SE\n",
        "rsq_lasso_mean = np.mean(rsq, axis=1)\n",
        "rsq_lasso_se  = np.std(rsq, axis=1) / np.sqrt(nfold-1)"
      ],
      "execution_count": null,
      "outputs": [
        {
          "output_type": "stream",
          "name": "stdout",
          "text": [
            "Fold = 0\n",
            "Fold = 1\n",
            "Fold = 2\n",
            "Fold = 3\n",
            "Fold = 4\n"
          ]
        }
      ]
    },
    {
      "cell_type": "markdown",
      "metadata": {
        "id": "857--_X8Lbdw"
      },
      "source": [
        ""
      ]
    },
    {
      "cell_type": "markdown",
      "metadata": {
        "id": "7e_DzYePdVCp"
      },
      "source": [
        "Plot the `r^2` value vs. `alpha`.  Print the optimal `r^2`.  You should see it is much higher than with the best Ridge Regression case."
      ]
    },
    {
      "cell_type": "code",
      "metadata": {
        "colab": {
          "base_uri": "https://localhost:8080/"
        },
        "id": "nSivmOrFdVCp",
        "outputId": "95f32ae4-6107-44f5-c82e-9aba75100cdc"
      },
      "source": [
        "# TODO 11\n",
        "plt.errorbar(np.log10(alphas), rsq_lasso_mean, yerr=rsq_lasso_se)\n",
        "plt.xlabel('log10(alpha)')\n",
        "plt.ylabel('Test R^2')\n",
        "plt.grid()\n",
        "plt.show()\n",
        "\n",
        "print('Maximum R2 = {}'.format(np.max(rsq_lasso_mean)))\n",
        "print('Alpha = {}'.format(alphas[np.argmax(rsq_lasso_mean)]))"
      ],
      "execution_count": null,
      "outputs": [
        {
          "output_type": "display_data",
          "data": {
            "image/png": "[encoded data removed]",
            "text/plain": [
              "<Figure size 432x288 with 1 Axes>"
            ]
          },
          "metadata": {
            "needs_background": "light"
          }
        },
        {
          "output_type": "stream",
          "name": "stdout",
          "text": [
            "Maximum R2 = 0.3503837468546044\n",
            "Alpha = 0.00017782794100389227\n"
          ]
        }
      ]
    },
    {
      "cell_type": "markdown",
      "metadata": {
        "id": "CrT4a86_dVCp"
      },
      "source": [
        "Display the current matrix `W` for the optimal `alpha` as you did in the Ridge Regression case.  You will see that is much sparser."
      ]
    },
    {
      "cell_type": "code",
      "metadata": {
        "colab": {
          "base_uri": "https://localhost:8080/"
        },
        "id": "RqwqGsijdVCp",
        "outputId": "262fa478-736b-494e-ea52-af0a75aacd2b"
      },
      "source": [
        "# TODO 12\n",
        "max_alpha = alphas[np.argmax(rsq_lasso_mean)]\n",
        "\n",
        "lasso = Ridge(alpha=max_alpha) \n",
        "lasso.fit(Xtr,Ytr)\n",
        "\n",
        "Wrms = np.sqrt(np.sum(np.transpose(lasso.coef_)**2, axis=1))\n",
        "Wrms"
      ],
      "execution_count": null,
      "outputs": [
        {
          "output_type": "execute_result",
          "data": {
            "text/plain": [
              "array([13.80433985,  8.06525207, 10.90814946, ...,  1.59855073,\n",
              "        0.8738014 ,  1.2091445 ])"
            ]
          },
          "metadata": {},
          "execution_count": 15
        }
      ]
    },
    {
      "cell_type": "markdown",
      "metadata": {
        "id": "IoiJ-H3RdVCq"
      },
      "source": [
        "## More fun (NOT GRADED)\n",
        "\n",
        "If you want to more on this lab:\n",
        "* Install the [MNE python package](https://martinos.org/mne/stable/index.html).  This is an amazing package with many tools for processing EEG data.\n",
        "* In particular, you can use the above results to visualize where in the brain the currents sources are.\n",
        "* You can also improve the fitting with more regularization.  For example, we know that the currents will be non-zero in groups:  If the current is non-zero for one time, it is likely to non-zero for all time.  You can use the Group LASSO method.\n",
        "* You can combine these results to make predictions about what the patient is seeing or hearing or thinking."
      ]
    },
    {
      "cell_type": "code",
      "metadata": {
        "id": "RzrBuo17dVCq"
      },
      "source": [
        ""
      ],
      "execution_count": null,
      "outputs": []
    }
  ]
}