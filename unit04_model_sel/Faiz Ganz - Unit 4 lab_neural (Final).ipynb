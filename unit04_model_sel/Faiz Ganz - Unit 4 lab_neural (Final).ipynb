{
  "nbformat": 4,
  "nbformat_minor": 0,
  "metadata": {
    "kernelspec": {
      "display_name": "Python 3",
      "language": "python",
      "name": "python3"
    },
    "language_info": {
      "codemirror_mode": {
        "name": "ipython",
        "version": 3
      },
      "file_extension": ".py",
      "mimetype": "text/x-python",
      "name": "python",
      "nbconvert_exporter": "python",
      "pygments_lexer": "ipython3",
      "version": "3.8.5"
    },
    "colab": {
      "name": "lab_neural_partial.ipynb",
      "provenance": []
    },
    "widgets": {
      "application/vnd.jupyter.widget-state+json": {
        "0090bf27a0424604b9e7780e103eb001": {
          "model_module": "@jupyter-widgets/controls",
          "model_name": "HBoxModel",
          "model_module_version": "1.5.0",
          "state": {
            "_view_name": "HBoxView",
            "_dom_classes": [],
            "_model_name": "HBoxModel",
            "_view_module": "@jupyter-widgets/controls",
            "_model_module_version": "1.5.0",
            "_view_count": null,
            "_view_module_version": "1.5.0",
            "box_style": "",
            "layout": "IPY_MODEL_f7ee8c18eafb47faa8901e3b273f997c",
            "_model_module": "@jupyter-widgets/controls",
            "children": [
              "IPY_MODEL_867684d24cb24a5e9509ea446f241ea8",
              "IPY_MODEL_b6cce3a8eaf7453d891d417817b4469c",
              "IPY_MODEL_3e051fccc1154909922f789b4882d540"
            ]
          }
        },
        "f7ee8c18eafb47faa8901e3b273f997c": {
          "model_module": "@jupyter-widgets/base",
          "model_name": "LayoutModel",
          "model_module_version": "1.2.0",
          "state": {
            "_view_name": "LayoutView",
            "grid_template_rows": null,
            "right": null,
            "justify_content": null,
            "_view_module": "@jupyter-widgets/base",
            "overflow": null,
            "_model_module_version": "1.2.0",
            "_view_count": null,
            "flex_flow": null,
            "width": null,
            "min_width": null,
            "border": null,
            "align_items": null,
            "bottom": null,
            "_model_module": "@jupyter-widgets/base",
            "top": null,
            "grid_column": null,
            "overflow_y": null,
            "overflow_x": null,
            "grid_auto_flow": null,
            "grid_area": null,
            "grid_template_columns": null,
            "flex": null,
            "_model_name": "LayoutModel",
            "justify_items": null,
            "grid_row": null,
            "max_height": null,
            "align_content": null,
            "visibility": null,
            "align_self": null,
            "height": null,
            "min_height": null,
            "padding": null,
            "grid_auto_rows": null,
            "grid_gap": null,
            "max_width": null,
            "order": null,
            "_view_module_version": "1.2.0",
            "grid_template_areas": null,
            "object_position": null,
            "object_fit": null,
            "grid_auto_columns": null,
            "margin": null,
            "display": null,
            "left": null
          }
        },
        "867684d24cb24a5e9509ea446f241ea8": {
          "model_module": "@jupyter-widgets/controls",
          "model_name": "HTMLModel",
          "model_module_version": "1.5.0",
          "state": {
            "_view_name": "HTMLView",
            "style": "IPY_MODEL_fcc035bcc04d4c2daf1003c2d770cc41",
            "_dom_classes": [],
            "description": "",
            "_model_name": "HTMLModel",
            "placeholder": "​",
            "_view_module": "@jupyter-widgets/controls",
            "_model_module_version": "1.5.0",
            "value": "Model order test: 100%",
            "_view_count": null,
            "_view_module_version": "1.5.0",
            "description_tooltip": null,
            "_model_module": "@jupyter-widgets/controls",
            "layout": "IPY_MODEL_7063c7b3b75f4d369374403dead45db1"
          }
        },
        "b6cce3a8eaf7453d891d417817b4469c": {
          "model_module": "@jupyter-widgets/controls",
          "model_name": "FloatProgressModel",
          "model_module_version": "1.5.0",
          "state": {
            "_view_name": "ProgressView",
            "style": "IPY_MODEL_566693b1351e42b5941d8f34683f6b0f",
            "_dom_classes": [],
            "description": "",
            "_model_name": "FloatProgressModel",
            "bar_style": "success",
            "max": 80,
            "_view_module": "@jupyter-widgets/controls",
            "_model_module_version": "1.5.0",
            "value": 80,
            "_view_count": null,
            "_view_module_version": "1.5.0",
            "orientation": "horizontal",
            "min": 0,
            "description_tooltip": null,
            "_model_module": "@jupyter-widgets/controls",
            "layout": "IPY_MODEL_8b24c7a62c794cfba878009478b89a04"
          }
        },
        "3e051fccc1154909922f789b4882d540": {
          "model_module": "@jupyter-widgets/controls",
          "model_name": "HTMLModel",
          "model_module_version": "1.5.0",
          "state": {
            "_view_name": "HTMLView",
            "style": "IPY_MODEL_c97ac7b3dc7a4410bcfab107f1ac5c8a",
            "_dom_classes": [],
            "description": "",
            "_model_name": "HTMLModel",
            "placeholder": "​",
            "_view_module": "@jupyter-widgets/controls",
            "_model_module_version": "1.5.0",
            "value": " 80/80 [00:32&lt;00:00,  1.16fits/s]",
            "_view_count": null,
            "_view_module_version": "1.5.0",
            "description_tooltip": null,
            "_model_module": "@jupyter-widgets/controls",
            "layout": "IPY_MODEL_2990619e6117431b91ae5d62222f0559"
          }
        },
        "fcc035bcc04d4c2daf1003c2d770cc41": {
          "model_module": "@jupyter-widgets/controls",
          "model_name": "DescriptionStyleModel",
          "model_module_version": "1.5.0",
          "state": {
            "_view_name": "StyleView",
            "_model_name": "DescriptionStyleModel",
            "description_width": "",
            "_view_module": "@jupyter-widgets/base",
            "_model_module_version": "1.5.0",
            "_view_count": null,
            "_view_module_version": "1.2.0",
            "_model_module": "@jupyter-widgets/controls"
          }
        },
        "7063c7b3b75f4d369374403dead45db1": {
          "model_module": "@jupyter-widgets/base",
          "model_name": "LayoutModel",
          "model_module_version": "1.2.0",
          "state": {
            "_view_name": "LayoutView",
            "grid_template_rows": null,
            "right": null,
            "justify_content": null,
            "_view_module": "@jupyter-widgets/base",
            "overflow": null,
            "_model_module_version": "1.2.0",
            "_view_count": null,
            "flex_flow": null,
            "width": null,
            "min_width": null,
            "border": null,
            "align_items": null,
            "bottom": null,
            "_model_module": "@jupyter-widgets/base",
            "top": null,
            "grid_column": null,
            "overflow_y": null,
            "overflow_x": null,
            "grid_auto_flow": null,
            "grid_area": null,
            "grid_template_columns": null,
            "flex": null,
            "_model_name": "LayoutModel",
            "justify_items": null,
            "grid_row": null,
            "max_height": null,
            "align_content": null,
            "visibility": null,
            "align_self": null,
            "height": null,
            "min_height": null,
            "padding": null,
            "grid_auto_rows": null,
            "grid_gap": null,
            "max_width": null,
            "order": null,
            "_view_module_version": "1.2.0",
            "grid_template_areas": null,
            "object_position": null,
            "object_fit": null,
            "grid_auto_columns": null,
            "margin": null,
            "display": null,
            "left": null
          }
        },
        "566693b1351e42b5941d8f34683f6b0f": {
          "model_module": "@jupyter-widgets/controls",
          "model_name": "ProgressStyleModel",
          "model_module_version": "1.5.0",
          "state": {
            "_view_name": "StyleView",
            "_model_name": "ProgressStyleModel",
            "description_width": "",
            "_view_module": "@jupyter-widgets/base",
            "_model_module_version": "1.5.0",
            "_view_count": null,
            "_view_module_version": "1.2.0",
            "bar_color": null,
            "_model_module": "@jupyter-widgets/controls"
          }
        },
        "8b24c7a62c794cfba878009478b89a04": {
          "model_module": "@jupyter-widgets/base",
          "model_name": "LayoutModel",
          "model_module_version": "1.2.0",
          "state": {
            "_view_name": "LayoutView",
            "grid_template_rows": null,
            "right": null,
            "justify_content": null,
            "_view_module": "@jupyter-widgets/base",
            "overflow": null,
            "_model_module_version": "1.2.0",
            "_view_count": null,
            "flex_flow": null,
            "width": null,
            "min_width": null,
            "border": null,
            "align_items": null,
            "bottom": null,
            "_model_module": "@jupyter-widgets/base",
            "top": null,
            "grid_column": null,
            "overflow_y": null,
            "overflow_x": null,
            "grid_auto_flow": null,
            "grid_area": null,
            "grid_template_columns": null,
            "flex": null,
            "_model_name": "LayoutModel",
            "justify_items": null,
            "grid_row": null,
            "max_height": null,
            "align_content": null,
            "visibility": null,
            "align_self": null,
            "height": null,
            "min_height": null,
            "padding": null,
            "grid_auto_rows": null,
            "grid_gap": null,
            "max_width": null,
            "order": null,
            "_view_module_version": "1.2.0",
            "grid_template_areas": null,
            "object_position": null,
            "object_fit": null,
            "grid_auto_columns": null,
            "margin": null,
            "display": null,
            "left": null
          }
        },
        "c97ac7b3dc7a4410bcfab107f1ac5c8a": {
          "model_module": "@jupyter-widgets/controls",
          "model_name": "DescriptionStyleModel",
          "model_module_version": "1.5.0",
          "state": {
            "_view_name": "StyleView",
            "_model_name": "DescriptionStyleModel",
            "description_width": "",
            "_view_module": "@jupyter-widgets/base",
            "_model_module_version": "1.5.0",
            "_view_count": null,
            "_view_module_version": "1.2.0",
            "_model_module": "@jupyter-widgets/controls"
          }
        },
        "2990619e6117431b91ae5d62222f0559": {
          "model_module": "@jupyter-widgets/base",
          "model_name": "LayoutModel",
          "model_module_version": "1.2.0",
          "state": {
            "_view_name": "LayoutView",
            "grid_template_rows": null,
            "right": null,
            "justify_content": null,
            "_view_module": "@jupyter-widgets/base",
            "overflow": null,
            "_model_module_version": "1.2.0",
            "_view_count": null,
            "flex_flow": null,
            "width": null,
            "min_width": null,
            "border": null,
            "align_items": null,
            "bottom": null,
            "_model_module": "@jupyter-widgets/base",
            "top": null,
            "grid_column": null,
            "overflow_y": null,
            "overflow_x": null,
            "grid_auto_flow": null,
            "grid_area": null,
            "grid_template_columns": null,
            "flex": null,
            "_model_name": "LayoutModel",
            "justify_items": null,
            "grid_row": null,
            "max_height": null,
            "align_content": null,
            "visibility": null,
            "align_self": null,
            "height": null,
            "min_height": null,
            "padding": null,
            "grid_auto_rows": null,
            "grid_gap": null,
            "max_width": null,
            "order": null,
            "_view_module_version": "1.2.0",
            "grid_template_areas": null,
            "object_position": null,
            "object_fit": null,
            "grid_auto_columns": null,
            "margin": null,
            "display": null,
            "left": null
          }
        }
      }
    }
  },
  "cells": [
    {
      "cell_type": "markdown",
      "metadata": {
        "id": "Aid90EDVCnJa"
      },
      "source": [
        "# Lab:  Model Order Selection for Neural Data\n",
        "\n",
        "Machine learning is a key tool for neuroscientists to understand how sensory and motor signals are encoded in the brain.  In addition to improving our scientific understanding of neural phenomena, understanding neural encoding is critical for brain machine interfaces.  In this lab, you will use model selection for performing some simple analysis on real neural signals.  \n",
        "\n",
        "Before doing this lab, you should review the ideas in the [polynomial model selection demo](./polyfit.ipynb).  In addition to the concepts in that demo, you will learn to:\n",
        "* Represent neural time-series data in arrays\n",
        "* Load data from a pickle file\n",
        "* Describe and fit memoryless linear models\n",
        "* Describe and fit linear time-series models with delays\n",
        "* Fit linear models with multiple target outputs\n",
        "* Select the optimal delay via cross-validation"
      ]
    },
    {
      "cell_type": "markdown",
      "metadata": {
        "id": "hVfKGkpVCnJe"
      },
      "source": [
        "## Loading the data\n",
        "\n",
        "The data in this lab comes from neural recordings described in:\n",
        "\n",
        "<a href=\"http://jn.physiology.org/content/106/2/764.short\">\n",
        "Stevenson, Ian H., et al. \"Statistical assessment of the stability of neural movement representations.\" Journal of neurophysiology 106.2 (2011): 764-774</a>\n",
        "\n",
        "Neurons are the basic information processing units in the brain.  Neurons communicate with one another via *spikes* or *action potentials* which are brief events where voltage in the neuron rapidly rises then falls.  These spikes trigger the electro-chemical signals between one neuron and another.  In this experiment, the spikes were recorded from 196 neurons in the primary motor cortex (M1) of a monkey using an electrode array implanted onto the surface of a monkey's brain.  During the recording, the monkey performed several reaching tasks and the position and velocity of the hand was recorded as well.  \n",
        "\n",
        "The goal of the experiment is to try to *read the monkey's brain*:  That is, predict the hand motion from the neural signals from the motor cortex.\n",
        "\n",
        "We first load the key packages."
      ]
    },
    {
      "cell_type": "code",
      "metadata": {
        "id": "DysKJNytCnJf"
      },
      "source": [
        "import numpy as np\n",
        "import matplotlib.pyplot as plt\n",
        "import pickle\n",
        "\n",
        "from sklearn.linear_model import LinearRegression\n",
        "from sklearn.metrics import r2_score"
      ],
      "execution_count": null,
      "outputs": []
    },
    {
      "cell_type": "markdown",
      "metadata": {
        "id": "6UbXFbJmCnJg"
      },
      "source": [
        "The full data is available on the CRCNS website  http://crcns.org/data-sets/movements/dream.  This website has a large number of great datasets and can be used for projects as well.  However, the raw data files can be quite large.  To make the lab easier, the [Kording lab](http://kordinglab.com/) at UPenn has put together an excellent [repository](https://github.com/KordingLab/Neural_Decoding) where they have created simple pre-processed versions of the data.  You can download the file `example_data_s1.pickle` from the [Dropbox link](https://www.dropbox.com/sh/n4924ipcfjqc0t6/AADOv9JYMUBK1tlg9P71gSSra/example_data_s1.pickle?dl=0).  Alternatively, you can directly run the following code.  This may take a little while to download since the file is 26 MB."
      ]
    },
    {
      "cell_type": "code",
      "metadata": {
        "id": "v7TzFT-yCnJg"
      },
      "source": [
        "fn_src = 'https://www.dropbox.com/sh/n4924ipcfjqc0t6/AADOv9JYMUBK1tlg9P71gSSra/example_data_s1.pickle?dl=1'\n",
        "fn_dst = 'example_data_s1.pickle'\n",
        "\n",
        "import os\n",
        "from six.moves import urllib\n",
        "\n",
        "if os.path.isfile(fn_dst):\n",
        "    print('File %s is already downloaded' % fn_dst)\n",
        "else:        \n",
        "    urllib.request.urlretrieve(fn_src, fn_dst)"
      ],
      "execution_count": null,
      "outputs": []
    },
    {
      "cell_type": "markdown",
      "metadata": {
        "id": "Ce6kMRyxCnJh"
      },
      "source": [
        "The file is a *pickle* data structure, which is a package to serialize python objects into data files.  Once you have downloaded the file, you can run the following command to retrieve the data from the pickle file."
      ]
    },
    {
      "cell_type": "code",
      "metadata": {
        "id": "-r5vlK0eCnJh"
      },
      "source": [
        "with open('example_data_s1.pickle', 'rb') as fp:\n",
        "    X,y = pickle.load(fp)"
      ],
      "execution_count": null,
      "outputs": []
    },
    {
      "cell_type": "markdown",
      "metadata": {
        "id": "2hPk2pKNCnJi"
      },
      "source": [
        "The matrix `X` is matrix of spike counts where `X[i,j]` is the number of spikes from neuron `j` in time bin `i`.\n",
        "The matrix `y` has two columns:\n",
        "* `y[i,0] = ` velocity of the monkey's hand in the x-direction\n",
        "* `y[i,1] = ` velocity of the monkey's hand in the y-direction\n",
        "Our goal will be to predict `y` from `X`.  \n",
        "\n",
        "Each time bin represent `tsamp=0.05` seconds of time.  Using `X.shape` and `y.shape` compute and print:\n",
        "* `nt = ` the total number of time bins\n",
        "* `nneuron = ` the total number of neurons\n",
        "* `nout = ` the total number of output variables to track = number of columns in `y`\n",
        "* `ttotal = ` total time of the experiment is seconds. "
      ]
    },
    {
      "cell_type": "code",
      "metadata": {
        "id": "GI9hqfPICnJj"
      },
      "source": [
        "tsamp = 0.05  # sampling time in seconds\n",
        "\n",
        "# TODO 1\n",
        "nt = X.shape[0]\n",
        "nneuron = X.shape[1]\n",
        "nout = y.shape[1]\n",
        "ttotal = tsamp * nt"
      ],
      "execution_count": null,
      "outputs": []
    },
    {
      "cell_type": "markdown",
      "metadata": {
        "id": "KwqyScRNCnJj"
      },
      "source": [
        "## Fitting a Memoryless Linear Model\n",
        "\n",
        "Let's first try a simple linear regression model to fit the data.\n",
        "\n",
        "First, use the `train_test_split` function to split the data into training and test.  Let `Xtr,ytr` be the training data set and `Xts,yts` be the test data set.  Use `test_size=0.33` so `1/3` of the data is used for test."
      ]
    },
    {
      "cell_type": "code",
      "metadata": {
        "id": "QBdRLaZICnJk"
      },
      "source": [
        "from sklearn.model_selection import train_test_split\n",
        "\n",
        "# TODO 2\n",
        "Xtr, Xts, ytr, yts = train_test_split(X,y,test_size=0.33)"
      ],
      "execution_count": null,
      "outputs": []
    },
    {
      "cell_type": "markdown",
      "metadata": {
        "id": "uflatWaICnJk"
      },
      "source": [
        "Now, fit a linear model using `Xtr,ytr`.  Make a prediction  `yhat` using `Xts`.  Compare `yhat` to `yts` to measure `rsq`, the  `R^2`.  You can use the `r2_score` method. Print the `rsq` value.  You should get `rsq` of around `0.45`. "
      ]
    },
    {
      "cell_type": "code",
      "metadata": {
        "colab": {
          "base_uri": "https://localhost:8080/"
        },
        "id": "MEufufi_CnJk",
        "outputId": "e3f426ff-c9c1-447a-f2ef-ee3aa1f1f805"
      },
      "source": [
        "# TODO 3\n",
        "regr = LinearRegression()\n",
        "regr.fit(Xtr,ytr)\n",
        "\n",
        "yhat = regr.predict(Xts)\n",
        "rsq = r2_score(yts,yhat)\n",
        "print(rsq)"
      ],
      "execution_count": null,
      "outputs": [
        {
          "output_type": "stream",
          "name": "stdout",
          "text": [
            "0.4634319479250737\n"
          ]
        }
      ]
    },
    {
      "cell_type": "markdown",
      "metadata": {
        "id": "WcTKk6ZpCnJk"
      },
      "source": [
        "It is useful to plot the predicted vs. true values.  Since we have two outputs, create two `subplots` using the `plt.subplot()` command.  In plot `i=0,1`, plot `yhat[:,i]` vs. `yts[:,i]` with a scatter plot.   Label the axes of the plots.  You may also use the command:\n",
        "\n",
        "    plt.figure(figsize=(10,5))\n",
        "    \n",
        "to make the figures a little larger."
      ]
    },
    {
      "cell_type": "code",
      "metadata": {
        "colab": {
          "base_uri": "https://localhost:8080/",
          "height": 350
        },
        "id": "-UiEFkhECnJl",
        "outputId": "33063caa-21a4-4494-ff36-80e28211306c"
      },
      "source": [
        "# TODO 4\n",
        "fig, axs = plt.subplots(1,2, figsize=(10, 5))\n",
        "\n",
        "titles = [\"x-direction\", 'y-direction']\n",
        "\n",
        "for i in range(2):\n",
        "  axs[i].scatter(yhat[:,i],yts[:,i])\n",
        "  axs[i].set_xlabel(\"Predicted Value\")\n",
        "  axs[i].set_ylabel(\"True Value\")\n",
        "  axs[i].set_title(titles[i])"
      ],
      "execution_count": null,
      "outputs": [
        {
          "output_type": "display_data",
          "data": {
            "image/png": "[encoded data removed]",
            "text/plain": [
              "<Figure size 720x360 with 2 Axes>"
            ]
          },
          "metadata": {
            "needs_background": "light"
          }
        }
      ]
    },
    {
      "cell_type": "markdown",
      "metadata": {
        "id": "xCDEG4nXCnJl"
      },
      "source": [
        "## Fitting Models with Delay\n",
        "\n",
        "One way we can improve the model accuracy is to used delayed version of the features.  Specifically, the model we used above mapped the features \n",
        "\n",
        "    yhat[i,k] = \\sum_{j=0}^{p-1} X[i,j]*w[j,k] + b[k]\n",
        "    \n",
        "where `p` is the number of features and `w[j,k]` is a matrix of coefficients.  In this model,  `yhat[i,:]` at time `i` was only dependent on the inputs  `X[i,:]` at time `i`.  In signal processing, this is called a *memoryless* model.  However, in many physical systems, such as those that arise in neuroscience, there is a delay between the inputs `X[i,:]` and the outputs `y[i]`.  For such cases, we can use a model of the form,\n",
        "\n",
        "    yhat[i+d,k] = \\sum_{j=0}^{p-1} \\sum_{m=0}^d X[i+m,j]*W[j,m,k] + b[k]\n",
        "    \n",
        "where `W` is a 3-dim array of coefficients where:\n",
        "\n",
        "    W[j,m,k] is the influence of the input X[i+m,j] onto output y[i+d,k]\n",
        "\n",
        "\n",
        "In signal processing, this model is called an *FIR* filter and `W[j,:,k]` is the *impulse response* from the `j`-th input to the `k`-th output.  The point is that the output at time `i+d` depends on the inputs at times `i,i+1,...,i+d`.  Hence, it depends on the last `d+1` time steps, not just the most recent time.\n",
        "\n",
        "To translate this into a linear regression problem, complete the following function that creates a new feature and target matrix where:\n",
        "\n",
        "    Xdly[i,:] has the rows X[i,:], X[i++1,:], ..., X[i+dly,:]\n",
        "    ydly[i,:] = y[i+dly,:]\n",
        "    \n",
        "Thus, `Xdly[i,:]` contains all the delayed fetaures for the target `yhat`.  Note that if `X` is `n x p` then `Xdly` will be `n-dly x (dly+1)*p`.  \n"
      ]
    },
    {
      "cell_type": "code",
      "metadata": {
        "id": "lwamW-D0CnJl"
      },
      "source": [
        "def create_dly_data(X,y,dly):\n",
        "    \"\"\"\n",
        "    Create delayed data\n",
        "    \"\"\"    \n",
        "    # TODO 5\n",
        "    Xdly = np.zeros((X.shape[0]-dly, (dly+1)*X.shape[1]))\n",
        "\n",
        "    for i in range(Xdly.shape[0]):\n",
        "      temp = np.array([])\n",
        "      for j in range(i, i+dly+1):\n",
        "        temp = np.concatenate((temp, X[j,:]), axis=0) # Is there an alternative method for this using broadcasting?\n",
        "      Xdly[i,:] = temp\n",
        "\n",
        "    ydly = np.array(y[dly:])\n",
        "    \n",
        "    return Xdly, ydly\n"
      ],
      "execution_count": null,
      "outputs": []
    },
    {
      "cell_type": "markdown",
      "metadata": {
        "id": "g8q9X-ZACnJl"
      },
      "source": [
        "Now fit an linear delayed model with `dly=6` additional delay lags.  That is,\n",
        "* Create delayed data `Xdly,ydly=create_dly_data(X,y,dly=6)`\n",
        "* Split the data into training and test as before\n",
        "* Fit the model on the training data\n",
        "* Measure the `R^2` score on the test data\n",
        "\n",
        "If you did this correctly, you should get a new `R^2` score around 0.69.  This is significantly better than the memoryless models."
      ]
    },
    {
      "cell_type": "code",
      "metadata": {
        "colab": {
          "base_uri": "https://localhost:8080/"
        },
        "id": "pg26X7IOCnJm",
        "outputId": "dab96b1b-0565-4690-8622-d44660107464"
      },
      "source": [
        "# TODO 6\n",
        "Xdly,ydly = create_dly_data(X,y,dly=6)\n",
        "\n",
        "Xdly_tr, Xdly_ts, ydly_tr, ydly_ts = train_test_split(Xdly,ydly,test_size=0.33)\n",
        "\n",
        "regr_dly = LinearRegression()\n",
        "\n",
        "regr_dly.fit(Xdly_tr, ydly_tr)\n",
        "\n",
        "yhat_dly = regr_dly.predict(Xdly_ts)\n",
        "\n",
        "rsq = r2_score(ydly_ts,yhat_dly)\n",
        "print(rsq)"
      ],
      "execution_count": null,
      "outputs": [
        {
          "output_type": "stream",
          "name": "stdout",
          "text": [
            "0.6931625431771229\n"
          ]
        }
      ]
    },
    {
      "cell_type": "markdown",
      "metadata": {
        "id": "XEQ8jThRCnJm"
      },
      "source": [
        "Plot the predicted vs. true values as before. You should visually see a better fit."
      ]
    },
    {
      "cell_type": "code",
      "metadata": {
        "id": "SVVlHE7jCnJm",
        "colab": {
          "base_uri": "https://localhost:8080/",
          "height": 350
        },
        "outputId": "cbb13bf0-4ffa-4808-c9a5-e94090b777bd"
      },
      "source": [
        "# TODO 7\n",
        "fig, axs = plt.subplots(1,2, figsize=(10, 5))\n",
        "\n",
        "titles = [\"x-direction\", 'y-direction']\n",
        "\n",
        "for i in range(2):\n",
        "  axs[i].scatter(yhat_dly[:,i],ydly_ts[:,i])\n",
        "  axs[i].set_xlabel(\"Predicted Value\")\n",
        "  axs[i].set_ylabel(\"True Value\")\n",
        "  axs[i].set_title(titles[i])"
      ],
      "execution_count": null,
      "outputs": [
        {
          "output_type": "display_data",
          "data": {
            "image/png": "[encoded data removed]",
            "text/plain": [
              "<Figure size 720x360 with 2 Axes>"
            ]
          },
          "metadata": {
            "needs_background": "light"
          }
        }
      ]
    },
    {
      "cell_type": "markdown",
      "metadata": {
        "id": "zAYBBUGrCnJm"
      },
      "source": [
        "*Note*:  Fitting an FIR model with the above method is very inefficient when the number of delays, `dly` is large.  In the above method, the number of columns of `X` grows from `p` to `(dly+1)*p` and the computations become expensive with `dly` is large.  We will describe a much faster way to fit such models using gradient descent when we talk about convolutional neural networks."
      ]
    },
    {
      "cell_type": "markdown",
      "metadata": {
        "id": "tD_7yxfyCnJm"
      },
      "source": [
        "## Selecting the Optimal Delay via Model Order Selection\n",
        "\n",
        "In the previous example, we fixed `dly=6`.  We can now select the optimal delay using model order selection.  Since we have a large number of data samples, it turns out that the optimal model order uses a very high delay.  Using the above fitting method, the computations take too long.  So, to simplify the lab, we will first just pretent that we have a very limited data set.\n",
        "\n",
        "Compute `Xred` and `yred` by taking the first `nred=6000` samples of the data `X` and `y`.  This is about 10% of the overall data."
      ]
    },
    {
      "cell_type": "code",
      "metadata": {
        "id": "C9FkX4fkCnJn"
      },
      "source": [
        "nred = 6000\n",
        "\n",
        "# TODO 8\n",
        "Xred = X[:nred,:] \n",
        "yred = y[:nred,:]"
      ],
      "execution_count": null,
      "outputs": []
    },
    {
      "cell_type": "markdown",
      "metadata": {
        "id": "RkwuzBKaCnJn"
      },
      "source": [
        "Now complete the following code to implement K-fold cross validation with `nfold=5` and values of delays `dtest = [0,1,...,dmax]`.  \n",
        "\n",
        "The code also includes a progress bar using the `tqdm` package.  This is very useful when you have a long computation.\n",
        "\n",
        "Note:  Some students appeared to use the `mse` metric (i.e. RSS per sample) instead of `R^2`.  That is fine.  For the solution, I have computed both."
      ]
    },
    {
      "cell_type": "markdown",
      "metadata": {
        "id": "1FYcKA37CnJn"
      },
      "source": [
        "You may have an issue with tqdm, make sure you have the necessary tools installed:\n",
        "Check https://ipywidgets.readthedocs.io/en/stable/user_install.html"
      ]
    },
    {
      "cell_type": "code",
      "metadata": {
        "id": "TGHaBd1SCnJn",
        "colab": {
          "base_uri": "https://localhost:8080/",
          "height": 49,
          "referenced_widgets": [
            "0090bf27a0424604b9e7780e103eb001",
            "f7ee8c18eafb47faa8901e3b273f997c",
            "867684d24cb24a5e9509ea446f241ea8",
            "b6cce3a8eaf7453d891d417817b4469c",
            "3e051fccc1154909922f789b4882d540",
            "fcc035bcc04d4c2daf1003c2d770cc41",
            "7063c7b3b75f4d369374403dead45db1",
            "566693b1351e42b5941d8f34683f6b0f",
            "8b24c7a62c794cfba878009478b89a04",
            "c97ac7b3dc7a4410bcfab107f1ac5c8a",
            "2990619e6117431b91ae5d62222f0559"
          ]
        },
        "outputId": "eab2ff3a-3788-4162-af3a-d3c36671f411"
      },
      "source": [
        "import  sklearn.model_selection \n",
        "import tqdm.notebook\n",
        "\n",
        "nfold = 5  # Number of folds\n",
        "dmax = 15  # maximum number of delays\n",
        "\n",
        "# TODO 9:  Create a k-fold object\n",
        "kf = sklearn.model_selection.KFold(n_splits=nfold, shuffle=True, random_state=23)\n",
        "\n",
        "# TODO 10:  Model orders to be tested\n",
        "dtest = np.arange(0, dmax+1) \n",
        "nd = len(dtest)\n",
        "\n",
        "# TODO 11.  \n",
        "# Initialize a matrix Rsq to hold values of the R^2 across the model orders and folds.\n",
        "# Alternatively, you can also create an RSS matrix\n",
        "Rsq = np.zeros((nfold, nd))\n",
        "\n",
        "# Create a progress bar.  Note there are nd*nfold total fits.\n",
        "pbar = tqdm.notebook.tqdm(\n",
        "    total=nfold*nd, initial=0,\n",
        "    unit='fits', unit_divisor=nd, desc='Model order test')\n",
        "\n",
        "\n",
        "for it, d in enumerate(dtest):\n",
        "    # TODO 12:  \n",
        "    # Create the delayed data using the create_dly_function from the reduced\n",
        "    # data Xred, yred\n",
        "    Xdly, ydly = create_dly_data(Xred, yred, d)    \n",
        "        \n",
        "    # Loop over the folds\n",
        "    for isplit, Ind in enumerate(kf.split(Xdly)):\n",
        "\n",
        "        # Get the training data in the split\n",
        "        Itr, Its = Ind        \n",
        "\n",
        "        # TODO 13\n",
        "        # Split the data (Xdly,ydly) into training and test\n",
        "        Xtr = Xdly[Itr]\n",
        "        ytr = ydly[Itr]\n",
        "        Xts = Xdly[Its]\n",
        "        yts = ydly[Its]\n",
        "\n",
        "        # TODO 14:  Fit data on training data  \n",
        "        regr_d = LinearRegression()\n",
        "        regr_d.fit(Xtr,ytr)\n",
        "        yhat_d = regr_d.predict(Xts)\n",
        "\n",
        "        # TODO 15:  Measure the R^2 vale on test data and store in the matrix Rsq\n",
        "        rsq = r2_score(yts,yhat_d)\n",
        "        Rsq[isplit,it] = rsq\n",
        "        \n",
        "        pbar.update(1)\n",
        "pbar.close()       "
      ],
      "execution_count": null,
      "outputs": [
        {
          "output_type": "display_data",
          "data": {
            "application/vnd.jupyter.widget-view+json": {
              "model_id": "0090bf27a0424604b9e7780e103eb001",
              "version_minor": 0,
              "version_major": 2
            },
            "text/plain": [
              "Model order test:   0%|          | 0/80 [00:00<?, ?fits/s]"
            ]
          },
          "metadata": {}
        }
      ]
    },
    {
      "cell_type": "markdown",
      "metadata": {
        "id": "W5G-YLakCnJn"
      },
      "source": [
        "Compute the mean and standard error of the `R^2` values as a function of the model order `d`.  Use a `plt.errorbar` plot.  Label your axes."
      ]
    },
    {
      "cell_type": "code",
      "metadata": {
        "id": "QhfbA73ACnJo",
        "colab": {
          "base_uri": "https://localhost:8080/",
          "height": 283
        },
        "outputId": "2a40a47e-f62b-4a56-8482-607e9c0f41f2"
      },
      "source": [
        "# TODO 16\n",
        "Rsq_mean = np.mean(Rsq,axis=0)\n",
        "Rsq_std_err  = np.std(Rsq,axis=0)*np.sqrt(nfold)/np.sqrt(nfold-1)\n",
        "plt.errorbar(dtest, Rsq_mean, yerr=Rsq_std_err, fmt='-')\n",
        "plt.ylim(0.4,0.75)\n",
        "plt.xlabel('Model order')\n",
        "plt.ylabel('Test Rsq')\n",
        "plt.grid()"
      ],
      "execution_count": null,
      "outputs": [
        {
          "output_type": "display_data",
          "data": {
            "image/png": "[encoded data removed]",
            "text/plain": [
              "<Figure size 432x288 with 1 Axes>"
            ]
          },
          "metadata": {
            "needs_background": "light"
          }
        }
      ]
    },
    {
      "cell_type": "markdown",
      "metadata": {
        "id": "xKBxAqjKCnJo"
      },
      "source": [
        "Find the optimal order `d` with the normal rule (i.e. highest test `R^2`)"
      ]
    },
    {
      "cell_type": "code",
      "metadata": {
        "id": "VdmCXFZ_CnJo",
        "colab": {
          "base_uri": "https://localhost:8080/"
        },
        "outputId": "aeb82475-6499-4d0a-ce0e-27c784e3d41f"
      },
      "source": [
        "# TODO 17\n",
        "\n",
        "opt_d = np.argmax(Rsq_mean)\n",
        "print('Optimal Delay Number: {}'.format(opt_d))"
      ],
      "execution_count": null,
      "outputs": [
        {
          "output_type": "stream",
          "name": "stdout",
          "text": [
            "Optimal Delay Number: 8\n"
          ]
        }
      ]
    },
    {
      "cell_type": "markdown",
      "metadata": {
        "id": "YtgKqQHLCnJo"
      },
      "source": [
        "Now find the optimal model order via the one SE rule (i.e. the lowest order model which has test `R^2` score within on SE)"
      ]
    },
    {
      "cell_type": "code",
      "metadata": {
        "id": "gHh1tdxLCnJo"
      },
      "source": [
        "# TODO 18"
      ],
      "execution_count": null,
      "outputs": []
    },
    {
      "cell_type": "code",
      "metadata": {
        "id": "Znvcs4XiCnJo",
        "colab": {
          "base_uri": "https://localhost:8080/"
        },
        "outputId": "894d8dd8-60ce-4edb-e248-9420e24edbad"
      },
      "source": [
        "# Find the lowest model order below the target\n",
        "Rsq_tgt = Rsq_mean[opt_d] - Rsq_std_err[opt_d]\n",
        "opt_se_d = np.min(np.where(Rsq_mean >= Rsq_tgt))\n",
        "\n",
        "print('Optimal One-SE Delay Number: {}'.format(opt_se_d))"
      ],
      "execution_count": null,
      "outputs": [
        {
          "output_type": "stream",
          "name": "stdout",
          "text": [
            "Optimal One-SE Delay Number: 5\n"
          ]
        }
      ]
    },
    {
      "cell_type": "code",
      "metadata": {
        "id": "G1Hk7DYdBLmH"
      },
      "source": [
        ""
      ],
      "execution_count": null,
      "outputs": []
    }
  ]
}